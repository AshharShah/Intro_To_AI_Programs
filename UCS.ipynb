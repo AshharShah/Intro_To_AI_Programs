{
 "cells": [
  {
   "cell_type": "code",
   "execution_count": 1,
   "id": "97036a6e-1345-4271-9f17-c2709cbaea74",
   "metadata": {},
   "outputs": [],
   "source": [
    "graph = {\n",
    "    'A' : [['D', 7], ['B', 11], ['C', 14]],\n",
    "    'B' : [['A', 11], ['E', 15]],\n",
    "    'D' : [['A', 7], ['F', 25]],\n",
    "    'C' : [['A', 14], ['E', 8], ['F', 10]],\n",
    "    'E' : [['B', 15], ['H', 9], ['C', 8]],\n",
    "    'F' : [['C', 10], ['D', 25], ['G', 20]],\n",
    "    'G' : [['F', 20], ['H', 10]],\n",
    "    'H' : [['E', 9], ['G', 10]]\n",
    "}"
   ]
  },
  {
   "cell_type": "code",
   "execution_count": 2,
   "id": "cb3c52e6-8491-42c5-94dd-af9b4179cbe7",
   "metadata": {},
   "outputs": [],
   "source": [
    "h_val = {\n",
    "    'A' : 40,\n",
    "    'B' : 32,\n",
    "    'C' : 25,\n",
    "    'D' : 35,\n",
    "    'E' : 19,\n",
    "    'F' : 17,\n",
    "    'H' : 10,\n",
    "    'G' : 0\n",
    "}"
   ]
  },
  {
   "cell_type": "code",
   "execution_count": 3,
   "id": "71660a6b-2e68-4f7d-a065-4efb8d71fa0b",
   "metadata": {},
   "outputs": [],
   "source": [
    "def printGraph(graph):\n",
    "    for key in graph:\n",
    "        print(str(key) + str(\" : \") + str(graph[key]), end = \"\\n\\n\")"
   ]
  },
  {
   "cell_type": "code",
   "execution_count": 4,
   "id": "befecec4-67af-434f-b02f-816eb6dd2222",
   "metadata": {},
   "outputs": [
    {
     "name": "stdout",
     "output_type": "stream",
     "text": [
      "A : [['D', 7], ['B', 11], ['C', 14]]\n",
      "\n",
      "B : [['A', 11], ['E', 15]]\n",
      "\n",
      "D : [['A', 7], ['F', 25]]\n",
      "\n",
      "C : [['A', 14], ['E', 8], ['F', 10]]\n",
      "\n",
      "E : [['B', 15], ['H', 9], ['C', 8]]\n",
      "\n",
      "F : [['C', 10], ['D', 25], ['G', 20]]\n",
      "\n",
      "G : [['F', 20], ['H', 10]]\n",
      "\n",
      "H : [['E', 9], ['G', 10]]\n",
      "\n"
     ]
    }
   ],
   "source": [
    "printGraph(graph)"
   ]
  },
  {
   "cell_type": "code",
   "execution_count": 8,
   "id": "4626b737-2c57-42cc-a6ca-9fd88577d01c",
   "metadata": {},
   "outputs": [],
   "source": [
    "def UCS(graph, start, end):\n",
    "    q = []\n",
    "    v = []\n",
    "    q.append([start, 0])\n",
    "    while (q):\n",
    "        popedNode = q.pop(0)\n",
    "        print(popedNode)\n",
    "        v.append(popedNode[0])"
   ]
  },
  {
   "cell_type": "code",
   "execution_count": 10,
   "id": "569388d3-bfcf-4167-bf33-788f6b1cdb74",
   "metadata": {},
   "outputs": [
    {
     "name": "stdout",
     "output_type": "stream",
     "text": [
      "['A', 0]\n"
     ]
    }
   ],
   "source": [
    "UCS(graph, 'A', 'G')"
   ]
  },
  {
   "cell_type": "code",
   "execution_count": null,
   "id": "986c0734-a193-48ab-97a1-2bf2236ad85a",
   "metadata": {},
   "outputs": [],
   "source": []
  }
 ],
 "metadata": {
  "kernelspec": {
   "display_name": "Python 3 (ipykernel)",
   "language": "python",
   "name": "python3"
  },
  "language_info": {
   "codemirror_mode": {
    "name": "ipython",
    "version": 3
   },
   "file_extension": ".py",
   "mimetype": "text/x-python",
   "name": "python",
   "nbconvert_exporter": "python",
   "pygments_lexer": "ipython3",
   "version": "3.10.6"
  }
 },
 "nbformat": 4,
 "nbformat_minor": 5
}
