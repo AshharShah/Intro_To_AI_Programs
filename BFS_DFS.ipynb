{
 "cells": [
  {
   "cell_type": "code",
   "execution_count": 101,
   "id": "06e23049-c9a5-4537-869b-48df59d92ba5",
   "metadata": {},
   "outputs": [],
   "source": [
    "tree = {\n",
    "    '5' : ['7', '3'],\n",
    "    '3' : ['4', '2'],\n",
    "    '7' : ['8'],\n",
    "    '2' : [],\n",
    "    '4' : [],\n",
    "    '8' : []\n",
    "}"
   ]
  },
  {
   "cell_type": "code",
   "execution_count": 102,
   "id": "2911aa43-7dbf-4d9d-a89c-a7ec9d277860",
   "metadata": {},
   "outputs": [],
   "source": [
    "def DFS(graph):\n",
    "    keys = list(graph.keys())\n",
    "    q = []\n",
    "    v = []\n",
    "    q.append(keys[0])\n",
    "    \n",
    "    while q:\n",
    "        temp = q.pop()\n",
    "        print(temp)\n",
    "        v.append(temp)\n",
    "        \n",
    "        for node in graph[temp]:\n",
    "            if(node not in v):\n",
    "                q.append(node)"
   ]
  },
  {
   "cell_type": "code",
   "execution_count": 103,
   "id": "294bc83a-b00f-43b0-b733-28668787ab07",
   "metadata": {},
   "outputs": [
    {
     "name": "stdout",
     "output_type": "stream",
     "text": [
      "5\n",
      "3\n",
      "2\n",
      "4\n",
      "7\n",
      "8\n"
     ]
    }
   ],
   "source": [
    "DFS(tree)"
   ]
  },
  {
   "cell_type": "code",
   "execution_count": 104,
   "id": "029d8deb-fbc0-435b-b787-0350efdf6898",
   "metadata": {},
   "outputs": [],
   "source": [
    "def BFS(graph):\n",
    "    keys = list(graph.keys())\n",
    "    q = []\n",
    "    v = []\n",
    "    q.append(keys[0])\n",
    "    \n",
    "    while q:\n",
    "        temp = q.pop(0)\n",
    "        print(temp)\n",
    "        v.append(temp)\n",
    "        \n",
    "        for node in graph[temp]:\n",
    "            if(node not in v):\n",
    "                q.append(node)"
   ]
  },
  {
   "cell_type": "code",
   "execution_count": 105,
   "id": "3ced2fe8-26ff-4806-a0a9-43e87c6787a2",
   "metadata": {},
   "outputs": [
    {
     "name": "stdout",
     "output_type": "stream",
     "text": [
      "5\n",
      "7\n",
      "3\n",
      "8\n",
      "4\n",
      "2\n"
     ]
    }
   ],
   "source": [
    "BFS(tree)"
   ]
  },
  {
   "cell_type": "code",
   "execution_count": null,
   "id": "a0f5bbec-1132-4d6a-9944-91aacc253548",
   "metadata": {},
   "outputs": [],
   "source": []
  }
 ],
 "metadata": {
  "kernelspec": {
   "display_name": "Python 3 (ipykernel)",
   "language": "python",
   "name": "python3"
  },
  "language_info": {
   "codemirror_mode": {
    "name": "ipython",
    "version": 3
   },
   "file_extension": ".py",
   "mimetype": "text/x-python",
   "name": "python",
   "nbconvert_exporter": "python",
   "pygments_lexer": "ipython3",
   "version": "3.10.6"
  }
 },
 "nbformat": 4,
 "nbformat_minor": 5
}
