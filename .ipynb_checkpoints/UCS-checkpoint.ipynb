{
 "cells": [
  {
   "cell_type": "code",
   "execution_count": 55,
   "id": "eb50eb4c-c920-4975-a25e-d864141cdab5",
   "metadata": {},
   "outputs": [],
   "source": [
    "# use to make a deep copy of the routes and for re-init graph\n",
    "import copy"
   ]
  },
  {
   "cell_type": "code",
   "execution_count": 1,
   "id": "97036a6e-1345-4271-9f17-c2709cbaea74",
   "metadata": {},
   "outputs": [],
   "source": [
    "graph = {\n",
    "    'A' : [['D', 7], ['B', 11], ['C', 14]],\n",
    "    'B' : [['A', 11], ['E', 15]],\n",
    "    'D' : [['A', 7], ['F', 25]],\n",
    "    'C' : [['A', 14], ['E', 8], ['F', 10]],\n",
    "    'E' : [['B', 15], ['H', 9], ['C', 8]],\n",
    "    'F' : [['C', 10], ['D', 25], ['G', 20]],\n",
    "    'G' : [['F', 20], ['H', 10]],\n",
    "    'H' : [['E', 9], ['G', 10]]\n",
    "}"
   ]
  },
  {
   "cell_type": "code",
   "execution_count": 23,
   "id": "cb3c52e6-8491-42c5-94dd-af9b4179cbe7",
   "metadata": {},
   "outputs": [],
   "source": [
    "h_val = {\n",
    "    'A' : 40,\n",
    "    'B' : 32,\n",
    "    'C' : 25,\n",
    "    'D' : 35,\n",
    "    'E' : 19,\n",
    "    'F' : 17,\n",
    "    'H' : 10,\n",
    "    'G' : 0\n",
    "}"
   ]
  },
  {
   "cell_type": "code",
   "execution_count": 24,
   "id": "71660a6b-2e68-4f7d-a065-4efb8d71fa0b",
   "metadata": {},
   "outputs": [],
   "source": [
    "def printGraph(graph):\n",
    "    for key in graph:\n",
    "        print(str(key) + str(\" : \") + str(graph[key]), end = \"\\n\\n\")"
   ]
  },
  {
   "cell_type": "code",
   "execution_count": 25,
   "id": "befecec4-67af-434f-b02f-816eb6dd2222",
   "metadata": {},
   "outputs": [
    {
     "name": "stdout",
     "output_type": "stream",
     "text": [
      "A : [['D', 7], ['B', 11], ['C', 14]]\n",
      "\n",
      "B : [['A', 11], ['E', 15]]\n",
      "\n",
      "D : [['A', 7], ['F', 25]]\n",
      "\n",
      "C : [['A', 14], ['E', 8], ['F', 10]]\n",
      "\n",
      "E : [['B', 15], ['H', 9], ['C', 8]]\n",
      "\n",
      "F : [['C', 10], ['D', 25], ['G', 20]]\n",
      "\n",
      "G : [['F', 20], ['H', 10]]\n",
      "\n",
      "H : [['E', 9], ['G', 10]]\n",
      "\n"
     ]
    }
   ],
   "source": [
    "printGraph(graph)"
   ]
  },
  {
   "cell_type": "code",
   "execution_count": 51,
   "id": "d5bc011d-ad4a-441e-a221-3b38aa801f53",
   "metadata": {},
   "outputs": [],
   "source": [
    "def sort(x):\n",
    "    return x[1]"
   ]
  },
  {
   "cell_type": "code",
   "execution_count": 68,
   "id": "4626b737-2c57-42cc-a6ca-9fd88577d01c",
   "metadata": {},
   "outputs": [],
   "source": [
    "def UCS(graph, start, end):\n",
    "    q = []\n",
    "    v = []\n",
    "    q.append([start, 0, []])\n",
    "    while (q):\n",
    "        print(\"Status of Queue: \" + str(q))\n",
    "        popedNode = q.pop(0)\n",
    "        print(\"Node Poped: \" + str(popedNode))\n",
    "        popedCost = popedNode[1]\n",
    "        v.append(popedNode[0])\n",
    "        print(\"Status of Visited Queue: \" + str(v))    \n",
    "        print(end = \"\\n\\n\")\n",
    "        \n",
    "        route = popedNode[2]\n",
    "        routes = copy.deepcopy(route)\n",
    "        routes.append([popedNode[0]])\n",
    "        \n",
    "        if(popedNode[0] == end):\n",
    "            print(\"Goal Node Found With A Cost Of: \" + str(popedCost))\n",
    "            print(\"Path Taken: \" + str(routes))\n",
    "            return\n",
    "        \n",
    "        for child in graph[popedNode[0]]:\n",
    "            if(child[0] not in v):\n",
    "                tempChild = child[0]\n",
    "                tempCost = child[1] + popedCost\n",
    "                q.append([tempChild, tempCost, routes])\n",
    "        q.sort(key = sort)"
   ]
  },
  {
   "cell_type": "code",
   "execution_count": 69,
   "id": "7585dc80-19c9-4b25-9629-499afe7de96d",
   "metadata": {},
   "outputs": [
    {
     "name": "stdout",
     "output_type": "stream",
     "text": [
      "Status of Queue: [['A', 0, []]]\n",
      "Node Poped: ['A', 0, []]\n",
      "Status of Visited Queue: ['A']\n",
      "\n",
      "\n",
      "Status of Queue: [['D', 7, [['A']]], ['B', 11, [['A']]], ['C', 14, [['A']]]]\n",
      "Node Poped: ['D', 7, [['A']]]\n",
      "Status of Visited Queue: ['A', 'D']\n",
      "\n",
      "\n",
      "Status of Queue: [['B', 11, [['A']]], ['C', 14, [['A']]], ['F', 32, [['A'], ['D']]]]\n",
      "Node Poped: ['B', 11, [['A']]]\n",
      "Status of Visited Queue: ['A', 'D', 'B']\n",
      "\n",
      "\n",
      "Status of Queue: [['C', 14, [['A']]], ['E', 26, [['A'], ['B']]], ['F', 32, [['A'], ['D']]]]\n",
      "Node Poped: ['C', 14, [['A']]]\n",
      "Status of Visited Queue: ['A', 'D', 'B', 'C']\n",
      "\n",
      "\n",
      "Status of Queue: [['E', 22, [['A'], ['C']]], ['F', 24, [['A'], ['C']]], ['E', 26, [['A'], ['B']]], ['F', 32, [['A'], ['D']]]]\n",
      "Node Poped: ['E', 22, [['A'], ['C']]]\n",
      "Status of Visited Queue: ['A', 'D', 'B', 'C', 'E']\n",
      "\n",
      "\n",
      "Status of Queue: [['F', 24, [['A'], ['C']]], ['E', 26, [['A'], ['B']]], ['H', 31, [['A'], ['C'], ['E']]], ['F', 32, [['A'], ['D']]]]\n",
      "Node Poped: ['F', 24, [['A'], ['C']]]\n",
      "Status of Visited Queue: ['A', 'D', 'B', 'C', 'E', 'F']\n",
      "\n",
      "\n",
      "Status of Queue: [['E', 26, [['A'], ['B']]], ['H', 31, [['A'], ['C'], ['E']]], ['F', 32, [['A'], ['D']]], ['G', 44, [['A'], ['C'], ['F']]]]\n",
      "Node Poped: ['E', 26, [['A'], ['B']]]\n",
      "Status of Visited Queue: ['A', 'D', 'B', 'C', 'E', 'F', 'E']\n",
      "\n",
      "\n",
      "Status of Queue: [['H', 31, [['A'], ['C'], ['E']]], ['F', 32, [['A'], ['D']]], ['H', 35, [['A'], ['B'], ['E']]], ['G', 44, [['A'], ['C'], ['F']]]]\n",
      "Node Poped: ['H', 31, [['A'], ['C'], ['E']]]\n",
      "Status of Visited Queue: ['A', 'D', 'B', 'C', 'E', 'F', 'E', 'H']\n",
      "\n",
      "\n",
      "Status of Queue: [['F', 32, [['A'], ['D']]], ['H', 35, [['A'], ['B'], ['E']]], ['G', 41, [['A'], ['C'], ['E'], ['H']]], ['G', 44, [['A'], ['C'], ['F']]]]\n",
      "Node Poped: ['F', 32, [['A'], ['D']]]\n",
      "Status of Visited Queue: ['A', 'D', 'B', 'C', 'E', 'F', 'E', 'H', 'F']\n",
      "\n",
      "\n",
      "Status of Queue: [['H', 35, [['A'], ['B'], ['E']]], ['G', 41, [['A'], ['C'], ['E'], ['H']]], ['G', 44, [['A'], ['C'], ['F']]], ['G', 52, [['A'], ['D'], ['F']]]]\n",
      "Node Poped: ['H', 35, [['A'], ['B'], ['E']]]\n",
      "Status of Visited Queue: ['A', 'D', 'B', 'C', 'E', 'F', 'E', 'H', 'F', 'H']\n",
      "\n",
      "\n",
      "Status of Queue: [['G', 41, [['A'], ['C'], ['E'], ['H']]], ['G', 44, [['A'], ['C'], ['F']]], ['G', 45, [['A'], ['B'], ['E'], ['H']]], ['G', 52, [['A'], ['D'], ['F']]]]\n",
      "Node Poped: ['G', 41, [['A'], ['C'], ['E'], ['H']]]\n",
      "Status of Visited Queue: ['A', 'D', 'B', 'C', 'E', 'F', 'E', 'H', 'F', 'H', 'G']\n",
      "\n",
      "\n",
      "Goal Node Found With A Cost Of: 41\n",
      "Path Taken: [['A'], ['C'], ['E'], ['H'], ['G']]\n"
     ]
    }
   ],
   "source": [
    "UCS(graph, 'A', 'G')"
   ]
  }
 ],
 "metadata": {
  "kernelspec": {
   "display_name": "Python 3 (ipykernel)",
   "language": "python",
   "name": "python3"
  },
  "language_info": {
   "codemirror_mode": {
    "name": "ipython",
    "version": 3
   },
   "file_extension": ".py",
   "mimetype": "text/x-python",
   "name": "python",
   "nbconvert_exporter": "python",
   "pygments_lexer": "ipython3",
   "version": "3.10.6"
  }
 },
 "nbformat": 4,
 "nbformat_minor": 5
}
