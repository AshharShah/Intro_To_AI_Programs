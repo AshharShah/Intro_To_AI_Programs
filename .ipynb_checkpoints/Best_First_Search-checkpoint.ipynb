{
 "cells": [
  {
   "cell_type": "code",
   "execution_count": 59,
   "id": "b2b96035-388f-4b9e-8317-f87f3963be3a",
   "metadata": {},
   "outputs": [],
   "source": [
    "graph = {\n",
    "    'A' : [['D', 7], ['B', 11], ['C', 14]],\n",
    "    'B' : [['A', 11], ['E', 15]],\n",
    "    'D' : [['A', 7], ['F', 25]],\n",
    "    'C' : [['A', 14], ['E', 8], ['F', 10]],\n",
    "    'E' : [['B', 15], ['H', 9], ['C', 8]],\n",
    "    'F' : [['C', 10], ['D', 25], ['G', 20]],\n",
    "    'G' : [['F', 20], ['H', 10]],\n",
    "    'H' : [['E', 9], ['G', 10]]\n",
    "}"
   ]
  },
  {
   "cell_type": "code",
   "execution_count": 60,
   "id": "3991bc89-aa58-4f9f-83c3-093260dc14f2",
   "metadata": {},
   "outputs": [],
   "source": [
    "h_val = {\n",
    "    'A' : 40,\n",
    "    'B' : 32,\n",
    "    'C' : 25,\n",
    "    'D' : 35,\n",
    "    'E' : 19,\n",
    "    'F' : 17,\n",
    "    'H' : 10,\n",
    "    'G' : 0\n",
    "}"
   ]
  },
  {
   "cell_type": "code",
   "execution_count": 61,
   "id": "a6e149c6-c3c3-4554-a747-1a513bbbb571",
   "metadata": {},
   "outputs": [],
   "source": [
    "def printGraph(graph):\n",
    "    for key in graph:\n",
    "        print(str(key) + str(\" : \") + str(graph[key]), end = \"\\n\\n\")"
   ]
  },
  {
   "cell_type": "code",
   "execution_count": 72,
   "id": "a6f8cd04-cff6-4151-b6de-91b2fec6e99f",
   "metadata": {},
   "outputs": [
    {
     "name": "stdout",
     "output_type": "stream",
     "text": [
      "A : [['D', 7], ['B', 11], ['C', 14]]\n",
      "\n",
      "B : [['A', 11], ['E', 15]]\n",
      "\n",
      "D : [['A', 7], ['F', 25]]\n",
      "\n",
      "C : [['A', 14], ['E', 8], ['F', 10]]\n",
      "\n",
      "E : [['B', 15], ['H', 9], ['C', 8]]\n",
      "\n",
      "F : [['C', 10], ['D', 25], ['G', 20]]\n",
      "\n",
      "G : [['F', 20], ['H', 10]]\n",
      "\n",
      "H : [['E', 9], ['G', 10]]\n",
      "\n"
     ]
    }
   ],
   "source": [
    "printGraph(graph)"
   ]
  },
  {
   "cell_type": "code",
   "execution_count": 73,
   "id": "2ef3b6e2-59a1-4a75-83fe-0421e7a58820",
   "metadata": {},
   "outputs": [],
   "source": [
    "def sortQueue(x):\n",
    "    return x[1]"
   ]
  },
  {
   "cell_type": "code",
   "execution_count": 78,
   "id": "28e5c9de-3abd-45ee-b2cf-d5f2a460ef70",
   "metadata": {},
   "outputs": [],
   "source": [
    "def BFS(graph, start, goal):\n",
    "    q = []\n",
    "    q.append([start, h_val[start]])\n",
    "    v = []\n",
    "    \n",
    "    while(q):\n",
    "        temp = q.pop(0)\n",
    "        v.append(temp[0])\n",
    "        \n",
    "        if(temp[0] == goal):\n",
    "            print(\"Goal Node Found!\")\n",
    "            for node in v:\n",
    "                print(node, end=\"--->\")\n",
    "            \n",
    "        for node in graph[temp[0]]:\n",
    "            if(node[0] not in v):\n",
    "                newNode = [node[0], h_val[node[0]]]\n",
    "                q.append(newNode)\n",
    "        q.sort(key = sortQueue)"
   ]
  },
  {
   "cell_type": "code",
   "execution_count": 79,
   "id": "9f8316f8-7504-4594-9f7c-013bc22deda7",
   "metadata": {},
   "outputs": [
    {
     "name": "stdout",
     "output_type": "stream",
     "text": [
      "Goal Node Found!\n",
      "A--->C--->F--->G--->"
     ]
    }
   ],
   "source": [
    "BFS(graph,'A', 'G')"
   ]
  }
 ],
 "metadata": {
  "kernelspec": {
   "display_name": "Python 3 (ipykernel)",
   "language": "python",
   "name": "python3"
  },
  "language_info": {
   "codemirror_mode": {
    "name": "ipython",
    "version": 3
   },
   "file_extension": ".py",
   "mimetype": "text/x-python",
   "name": "python",
   "nbconvert_exporter": "python",
   "pygments_lexer": "ipython3",
   "version": "3.10.6"
  }
 },
 "nbformat": 4,
 "nbformat_minor": 5
}
